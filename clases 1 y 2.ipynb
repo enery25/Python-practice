{
 "cells": [
  {
   "cell_type": "markdown",
   "id": "3efcd722",
   "metadata": {},
   "source": [
    "# Primer día aprendiendo a manejar Python"
   ]
  },
  {
   "cell_type": "markdown",
   "id": "45e05ee8",
   "metadata": {},
   "source": [
    "## Estoy en clase de Python (en Data Science) y estoy probando diferentes cositas"
   ]
  },
  {
   "cell_type": "code",
   "execution_count": 1,
   "id": "18c19e96",
   "metadata": {},
   "outputs": [
    {
     "data": {
      "text/plain": [
       "4"
      ]
     },
     "execution_count": 1,
     "metadata": {},
     "output_type": "execute_result"
    }
   ],
   "source": [
    "2+2"
   ]
  },
  {
   "cell_type": "markdown",
   "id": "1b56b9bb",
   "metadata": {},
   "source": [
    "# Prueba 1"
   ]
  },
  {
   "cell_type": "markdown",
   "id": "1db87c0a",
   "metadata": {},
   "source": [
    "## Subtexto"
   ]
  },
  {
   "cell_type": "markdown",
   "id": "134b830c",
   "metadata": {},
   "source": [
    "### subsubtexto"
   ]
  },
  {
   "cell_type": "markdown",
   "id": "7003519c",
   "metadata": {},
   "source": [
    "# Declarando multiples variables en una sola línea"
   ]
  },
  {
   "cell_type": "code",
   "execution_count": 18,
   "id": "72ba708f",
   "metadata": {},
   "outputs": [],
   "source": [
    "age, name, city, world = 29, \"Irene\", \"Madrid\", \"la Tierra\""
   ]
  },
  {
   "cell_type": "code",
   "execution_count": 19,
   "id": "0e693704",
   "metadata": {},
   "outputs": [
    {
     "name": "stdout",
     "output_type": "stream",
     "text": [
      "la Tierra\n"
     ]
    }
   ],
   "source": [
    "print(world)"
   ]
  },
  {
   "cell_type": "code",
   "execution_count": 20,
   "id": "63265493",
   "metadata": {},
   "outputs": [
    {
     "name": "stdout",
     "output_type": "stream",
     "text": [
      "Irene   Madrid\n"
     ]
    }
   ],
   "source": [
    "print(name,\" \",city)"
   ]
  },
  {
   "cell_type": "code",
   "execution_count": 21,
   "id": "0510b41a",
   "metadata": {},
   "outputs": [],
   "source": [
    "tres=three=drei=3"
   ]
  },
  {
   "cell_type": "code",
   "execution_count": 22,
   "id": "2a6c3ffe",
   "metadata": {},
   "outputs": [
    {
     "name": "stdout",
     "output_type": "stream",
     "text": [
      "3\n"
     ]
    }
   ],
   "source": [
    "print(three)"
   ]
  },
  {
   "cell_type": "markdown",
   "id": "9a4438ed",
   "metadata": {},
   "source": [
    "# Conocer tipo variable"
   ]
  },
  {
   "cell_type": "code",
   "execution_count": 35,
   "id": "84a161e3",
   "metadata": {},
   "outputs": [
    {
     "data": {
      "text/plain": [
       "int"
      ]
     },
     "execution_count": 35,
     "metadata": {},
     "output_type": "execute_result"
    }
   ],
   "source": [
    "type(3)"
   ]
  },
  {
   "cell_type": "markdown",
   "id": "e5c03b57",
   "metadata": {},
   "source": [
    "# Jugar con posiciones"
   ]
  },
  {
   "cell_type": "code",
   "execution_count": 7,
   "id": "c783a8ed",
   "metadata": {},
   "outputs": [
    {
     "name": "stdout",
     "output_type": "stream",
     "text": [
      "hello\n",
      "\tWorld\n"
     ]
    }
   ],
   "source": [
    "print(\"hello\\n\\tWorld\")"
   ]
  },
  {
   "cell_type": "code",
   "execution_count": 25,
   "id": "cc07e899",
   "metadata": {},
   "outputs": [
    {
     "name": "stdout",
     "output_type": "stream",
     "text": [
      "     *\n",
      "*\t*\n",
      "    *\n"
     ]
    }
   ],
   "source": [
    "print(\"     *\\n*\\t*\\n    *\")"
   ]
  },
  {
   "cell_type": "markdown",
   "id": "9c417c89",
   "metadata": {},
   "source": [
    "# Asignar variable a otra variable"
   ]
  },
  {
   "cell_type": "code",
   "execution_count": 28,
   "id": "cd050e60",
   "metadata": {},
   "outputs": [],
   "source": [
    "Gente_en_clase = 16\n"
   ]
  },
  {
   "cell_type": "code",
   "execution_count": 32,
   "id": "c1d03c2c",
   "metadata": {},
   "outputs": [],
   "source": [
    "Total_population = Gente_en_clase"
   ]
  },
  {
   "cell_type": "code",
   "execution_count": 34,
   "id": "161fb307",
   "metadata": {},
   "outputs": [
    {
     "name": "stdout",
     "output_type": "stream",
     "text": [
      "16\n"
     ]
    }
   ],
   "source": [
    "print(Total_population)"
   ]
  },
  {
   "cell_type": "markdown",
   "id": "19e8d120",
   "metadata": {},
   "source": [
    " Para poder relacionar dos nombres como \"Gente_en_clase\" y \"Total_Population\" la segunda línea, debo poner primero \"Total_population\" porque tengo que definirla (la otra ya está definida y asignada a num 16), la voy a definir ahí es T_p así que es la que va primero. Si no, no funciona.\n",
    "Y tiene que estar escrita tal cual,las mayus y minus influyen."
   ]
  },
  {
   "cell_type": "markdown",
   "id": "0bcd33b8",
   "metadata": {},
   "source": [
    "# Operando con variable numérica"
   ]
  },
  {
   "cell_type": "code",
   "execution_count": 37,
   "id": "4a4d3bb2",
   "metadata": {},
   "outputs": [
    {
     "data": {
      "text/plain": [
       "2315"
      ]
     },
     "execution_count": 37,
     "metadata": {},
     "output_type": "execute_result"
    }
   ],
   "source": [
    "x = 2314\n",
    "x+1"
   ]
  },
  {
   "cell_type": "code",
   "execution_count": 39,
   "id": "56c8fbfb",
   "metadata": {},
   "outputs": [
    {
     "data": {
      "text/plain": [
       "4628"
      ]
     },
     "execution_count": 39,
     "metadata": {},
     "output_type": "execute_result"
    }
   ],
   "source": [
    "y=x+2314\n",
    "y"
   ]
  },
  {
   "cell_type": "markdown",
   "id": "2203cadc",
   "metadata": {},
   "source": [
    "# Sobreescribir variable num (2 formas)"
   ]
  },
  {
   "cell_type": "code",
   "execution_count": 40,
   "id": "fb89fc94",
   "metadata": {},
   "outputs": [],
   "source": [
    "x = x * 0.1"
   ]
  },
  {
   "cell_type": "code",
   "execution_count": 41,
   "id": "a09dbd29",
   "metadata": {},
   "outputs": [
    {
     "data": {
      "text/plain": [
       "231.4"
      ]
     },
     "execution_count": 41,
     "metadata": {},
     "output_type": "execute_result"
    }
   ],
   "source": [
    "x"
   ]
  },
  {
   "cell_type": "markdown",
   "id": "f323fb31",
   "metadata": {},
   "source": [
    "Esto (abajo) se llama: *Asignación aumentada*."
   ]
  },
  {
   "cell_type": "code",
   "execution_count": 42,
   "id": "69d6f4f2",
   "metadata": {},
   "outputs": [
    {
     "data": {
      "text/plain": [
       "231.9"
      ]
     },
     "execution_count": 42,
     "metadata": {},
     "output_type": "execute_result"
    }
   ],
   "source": [
    "x +=0.5\n",
    "x"
   ]
  },
  {
   "cell_type": "code",
   "execution_count": 43,
   "id": "f4c5ea5f",
   "metadata": {},
   "outputs": [
    {
     "data": {
      "text/plain": [
       "200.9"
      ]
     },
     "execution_count": 43,
     "metadata": {},
     "output_type": "execute_result"
    }
   ],
   "source": [
    "x -=31\n",
    "x"
   ]
  },
  {
   "cell_type": "markdown",
   "id": "8a0db78f",
   "metadata": {},
   "source": [
    " *Asignación tradicional* es cuando simplemente se vuelve a renombrar la variable ej. x = 5\n",
    "x = x + 1"
   ]
  },
  {
   "cell_type": "code",
   "execution_count": 92,
   "id": "c9c4e52c",
   "metadata": {},
   "outputs": [
    {
     "data": {
      "text/plain": [
       "15"
      ]
     },
     "execution_count": 92,
     "metadata": {},
     "output_type": "execute_result"
    }
   ],
   "source": [
    "random_number = 15\n",
    "random_number"
   ]
  },
  {
   "cell_type": "code",
   "execution_count": 93,
   "id": "d7dbb29e",
   "metadata": {},
   "outputs": [
    {
     "data": {
      "text/plain": [
       "20"
      ]
     },
     "execution_count": 93,
     "metadata": {},
     "output_type": "execute_result"
    }
   ],
   "source": [
    "random_number += 5\n",
    "random_number"
   ]
  },
  {
   "cell_type": "code",
   "execution_count": 94,
   "id": "2aeb7792",
   "metadata": {},
   "outputs": [
    {
     "data": {
      "text/plain": [
       "100"
      ]
     },
     "execution_count": 94,
     "metadata": {},
     "output_type": "execute_result"
    }
   ],
   "source": [
    "random_number *=5\n",
    "random_number"
   ]
  },
  {
   "cell_type": "markdown",
   "id": "7a2c63af",
   "metadata": {},
   "source": [
    "# Strings"
   ]
  },
  {
   "cell_type": "markdown",
   "id": "fea26b9d",
   "metadata": {},
   "source": [
    "Variable se identifica con minusculas 'x'. Cuando es una constante, algo que no debo cambiar, se pone en MAYUSCULAS, un dato que no debo reasignar,resignificar. No hay otra forma."
   ]
  },
  {
   "cell_type": "code",
   "execution_count": 13,
   "id": "1b5f733a",
   "metadata": {},
   "outputs": [],
   "source": [
    "a = 'Hola'\n",
    "b = 'Mundo'\n",
    "e= ' '"
   ]
  },
  {
   "cell_type": "code",
   "execution_count": 14,
   "id": "79410af7",
   "metadata": {},
   "outputs": [
    {
     "name": "stdout",
     "output_type": "stream",
     "text": [
      "Hola Mundo\n"
     ]
    }
   ],
   "source": [
    "print(a+e+b)"
   ]
  },
  {
   "cell_type": "code",
   "execution_count": 15,
   "id": "fbeaa839",
   "metadata": {},
   "outputs": [
    {
     "name": "stdout",
     "output_type": "stream",
     "text": [
      "Hola Mundo\n"
     ]
    }
   ],
   "source": [
    "print(a+\" \"+b)"
   ]
  },
  {
   "cell_type": "markdown",
   "id": "171514a0",
   "metadata": {},
   "source": [
    "## Concatenación"
   ]
  },
  {
   "cell_type": "code",
   "execution_count": 49,
   "id": "7a29a5d3",
   "metadata": {},
   "outputs": [
    {
     "name": "stdout",
     "output_type": "stream",
     "text": [
      "Mi nombre es Irene y vivo en Madrid\n"
     ]
    }
   ],
   "source": [
    "print(\"Mi nombre es \"+ name + \" y vivo en \" + city)"
   ]
  },
  {
   "cell_type": "markdown",
   "id": "5d8ad1bb",
   "metadata": {},
   "source": [
    "# Interpolación\n",
    "### más usado y cómodo"
   ]
  },
  {
   "cell_type": "code",
   "execution_count": 45,
   "id": "631e6043",
   "metadata": {},
   "outputs": [
    {
     "name": "stdout",
     "output_type": "stream",
     "text": [
      "Mi nombre es Irene y vivo en Madrid\n"
     ]
    }
   ],
   "source": [
    "print(\"Mi nombre es {} y vivo en {}\".format(name,city))"
   ]
  },
  {
   "cell_type": "markdown",
   "id": "fcc75b40",
   "metadata": {},
   "source": [
    "# Count"
   ]
  },
  {
   "cell_type": "code",
   "execution_count": 51,
   "id": "314e800c",
   "metadata": {},
   "outputs": [
    {
     "name": "stdout",
     "output_type": "stream",
     "text": [
      "2\n"
     ]
    }
   ],
   "source": [
    "print(name.count(\"e\"))"
   ]
  },
  {
   "cell_type": "code",
   "execution_count": 52,
   "id": "e433b5b3",
   "metadata": {},
   "outputs": [
    {
     "name": "stdout",
     "output_type": "stream",
     "text": [
      "5\n"
     ]
    }
   ],
   "source": [
    "print(len(name))"
   ]
  },
  {
   "cell_type": "code",
   "execution_count": 55,
   "id": "da22d6b2",
   "metadata": {},
   "outputs": [
    {
     "name": "stdout",
     "output_type": "stream",
     "text": [
      "MADRID\n"
     ]
    }
   ],
   "source": [
    "print(city.upper())"
   ]
  },
  {
   "cell_type": "markdown",
   "id": "b23db30e",
   "metadata": {},
   "source": [
    "# Actividad 1"
   ]
  },
  {
   "cell_type": "code",
   "execution_count": 56,
   "id": "9bbdf3d0",
   "metadata": {},
   "outputs": [
    {
     "data": {
      "text/plain": [
       "2001"
      ]
     },
     "execution_count": 56,
     "metadata": {},
     "output_type": "execute_result"
    }
   ],
   "source": [
    "space_oddysey = 2001\n",
    "space_oddysey"
   ]
  },
  {
   "cell_type": "code",
   "execution_count": 57,
   "id": "ab5b97a7",
   "metadata": {},
   "outputs": [
    {
     "data": {
      "text/plain": [
       "str"
      ]
     },
     "execution_count": 57,
     "metadata": {},
     "output_type": "execute_result"
    }
   ],
   "source": [
    "type('Good night & Good luck')"
   ]
  },
  {
   "cell_type": "code",
   "execution_count": 58,
   "id": "aba42717",
   "metadata": {},
   "outputs": [
    {
     "data": {
      "text/plain": [
       "bool"
      ]
     },
     "execution_count": 58,
     "metadata": {},
     "output_type": "execute_result"
    }
   ],
   "source": [
    "type(True)"
   ]
  },
  {
   "cell_type": "code",
   "execution_count": 61,
   "id": "5e648b07",
   "metadata": {},
   "outputs": [],
   "source": [
    "result= 10*3.0"
   ]
  },
  {
   "cell_type": "code",
   "execution_count": 62,
   "id": "4f4868d7",
   "metadata": {},
   "outputs": [
    {
     "data": {
      "text/plain": [
       "30.0"
      ]
     },
     "execution_count": 62,
     "metadata": {},
     "output_type": "execute_result"
    }
   ],
   "source": [
    "result"
   ]
  },
  {
   "cell_type": "code",
   "execution_count": 63,
   "id": "930ee8de",
   "metadata": {},
   "outputs": [
    {
     "data": {
      "text/plain": [
       "float"
      ]
     },
     "execution_count": 63,
     "metadata": {},
     "output_type": "execute_result"
    }
   ],
   "source": [
    "type(result)"
   ]
  },
  {
   "cell_type": "markdown",
   "id": "dfd73bbb",
   "metadata": {},
   "source": [
    "# Seguimos!\n",
    "## operaciones\n",
    "Para sumar numeros enteros int y float, pero quiero el resultado en enteros, debo poner \"int\" antes de la operación entre paréntesis. Lo mismo al revés si quiero que aparezca en float..porque sí."
   ]
  },
  {
   "cell_type": "code",
   "execution_count": 67,
   "id": "1b5de985",
   "metadata": {},
   "outputs": [
    {
     "data": {
      "text/plain": [
       "12"
      ]
     },
     "execution_count": 67,
     "metadata": {},
     "output_type": "execute_result"
    }
   ],
   "source": [
    "int (8 + 4.2)"
   ]
  },
  {
   "cell_type": "code",
   "execution_count": 68,
   "id": "365e553f",
   "metadata": {},
   "outputs": [
    {
     "data": {
      "text/plain": [
       "12.2"
      ]
     },
     "execution_count": 68,
     "metadata": {},
     "output_type": "execute_result"
    }
   ],
   "source": [
    "8 + 4.2"
   ]
  },
  {
   "cell_type": "code",
   "execution_count": 69,
   "id": "b1eadde9",
   "metadata": {},
   "outputs": [
    {
     "data": {
      "text/plain": [
       "15.0"
      ]
     },
     "execution_count": 69,
     "metadata": {},
     "output_type": "execute_result"
    }
   ],
   "source": [
    "float (8+7)"
   ]
  },
  {
   "cell_type": "code",
   "execution_count": 74,
   "id": "549099a8",
   "metadata": {},
   "outputs": [
    {
     "data": {
      "text/plain": [
       "3.3333333333333335"
      ]
     },
     "execution_count": 74,
     "metadata": {},
     "output_type": "execute_result"
    }
   ],
   "source": [
    "10/3"
   ]
  },
  {
   "cell_type": "code",
   "execution_count": 73,
   "id": "31c82d3d",
   "metadata": {},
   "outputs": [
    {
     "data": {
      "text/plain": [
       "3"
      ]
     },
     "execution_count": 73,
     "metadata": {},
     "output_type": "execute_result"
    }
   ],
   "source": [
    "10//3"
   ]
  },
  {
   "cell_type": "markdown",
   "id": "0d927fa7",
   "metadata": {},
   "source": [
    "Formas de elevar a la n"
   ]
  },
  {
   "cell_type": "code",
   "execution_count": 71,
   "id": "e31cc6ae",
   "metadata": {},
   "outputs": [
    {
     "data": {
      "text/plain": [
       "3125"
      ]
     },
     "execution_count": 71,
     "metadata": {},
     "output_type": "execute_result"
    }
   ],
   "source": [
    "5**5"
   ]
  },
  {
   "cell_type": "code",
   "execution_count": 72,
   "id": "a912acf1",
   "metadata": {},
   "outputs": [
    {
     "data": {
      "text/plain": [
       "3125"
      ]
     },
     "execution_count": 72,
     "metadata": {},
     "output_type": "execute_result"
    }
   ],
   "source": [
    "pow (5,5)"
   ]
  },
  {
   "cell_type": "markdown",
   "id": "ee311a20",
   "metadata": {},
   "source": [
    "# Num complejos (complex)"
   ]
  },
  {
   "cell_type": "code",
   "execution_count": 75,
   "id": "a1fd2abd",
   "metadata": {},
   "outputs": [
    {
     "data": {
      "text/plain": [
       "(2+5j)"
      ]
     },
     "execution_count": 75,
     "metadata": {},
     "output_type": "execute_result"
    }
   ],
   "source": [
    "z= 2 + 5j\n",
    "z"
   ]
  },
  {
   "cell_type": "code",
   "execution_count": 76,
   "id": "68d17b9d",
   "metadata": {},
   "outputs": [
    {
     "data": {
      "text/plain": [
       "complex"
      ]
     },
     "execution_count": 76,
     "metadata": {},
     "output_type": "execute_result"
    }
   ],
   "source": [
    "type(z)"
   ]
  },
  {
   "cell_type": "markdown",
   "id": "0de714cb",
   "metadata": {},
   "source": [
    "La i siempre vale raiz de -1, no se usa para ecuaciones/funciones. Significa que hay información que no procesamos, \"ruido\", info adicional. Si es 2 + 5j, significa que hay 2 unidades de x que sí podemos explicar/procesar y 5 unidades de \"ruido\", de datos extra que no podemos identificar."
   ]
  },
  {
   "cell_type": "code",
   "execution_count": 77,
   "id": "05d2186a",
   "metadata": {},
   "outputs": [
    {
     "name": "stdout",
     "output_type": "stream",
     "text": [
      "Requirement already satisfied: colorama in c:\\users\\cursostardes\\.conda\\envs\\curso_python\\lib\\site-packages (0.4.6)\n",
      "Note: you may need to restart the kernel to use updated packages.\n"
     ]
    }
   ],
   "source": [
    "pip install colorama"
   ]
  },
  {
   "cell_type": "markdown",
   "id": "4e504b61",
   "metadata": {},
   "source": [
    "Me da la parte real solo del numero completo // o solo la parte imaginaria"
   ]
  },
  {
   "cell_type": "code",
   "execution_count": 80,
   "id": "57ed6f9a",
   "metadata": {},
   "outputs": [
    {
     "data": {
      "text/plain": [
       "2.0"
      ]
     },
     "execution_count": 80,
     "metadata": {},
     "output_type": "execute_result"
    }
   ],
   "source": [
    "z.real"
   ]
  },
  {
   "cell_type": "code",
   "execution_count": 81,
   "id": "8b2fd326",
   "metadata": {},
   "outputs": [
    {
     "data": {
      "text/plain": [
       "5.0"
      ]
     },
     "execution_count": 81,
     "metadata": {},
     "output_type": "execute_result"
    }
   ],
   "source": [
    "z.imag"
   ]
  },
  {
   "cell_type": "code",
   "execution_count": 82,
   "id": "6aef5e87",
   "metadata": {},
   "outputs": [
    {
     "data": {
      "text/plain": [
       "(5+10j)"
      ]
     },
     "execution_count": 82,
     "metadata": {},
     "output_type": "execute_result"
    }
   ],
   "source": [
    "o= z + (3 +5j)\n",
    "o\n"
   ]
  },
  {
   "cell_type": "code",
   "execution_count": 83,
   "id": "4473c595",
   "metadata": {},
   "outputs": [
    {
     "data": {
      "text/plain": [
       "(-40+45j)"
      ]
     },
     "execution_count": 83,
     "metadata": {},
     "output_type": "execute_result"
    }
   ],
   "source": [
    "o*z"
   ]
  },
  {
   "cell_type": "markdown",
   "id": "9e6ee83e",
   "metadata": {},
   "source": [
    "Para calcular el modulo del numero complejo, el valor absoluto. Lo convierte en positivo si está en negativo y elimina la \"j\""
   ]
  },
  {
   "cell_type": "code",
   "execution_count": 84,
   "id": "80603f07",
   "metadata": {},
   "outputs": [
    {
     "data": {
      "text/plain": [
       "5.385164807134504"
      ]
     },
     "execution_count": 84,
     "metadata": {},
     "output_type": "execute_result"
    }
   ],
   "source": [
    "abs (z)"
   ]
  },
  {
   "cell_type": "markdown",
   "id": "ec0c867c",
   "metadata": {},
   "source": [
    "Todas las operaciones que quiera hacer sobre los ocmplejos, se puede hacer con cmath (c de complejo)"
   ]
  },
  {
   "cell_type": "code",
   "execution_count": 88,
   "id": "0167eba4",
   "metadata": {},
   "outputs": [],
   "source": [
    "import math as mt"
   ]
  },
  {
   "cell_type": "code",
   "execution_count": 86,
   "id": "93ef16bc",
   "metadata": {},
   "outputs": [],
   "source": [
    "import cmath"
   ]
  },
  {
   "cell_type": "code",
   "execution_count": 87,
   "id": "df52dbce",
   "metadata": {},
   "outputs": [
    {
     "data": {
      "text/plain": [
       "1.1902899496825317"
      ]
     },
     "execution_count": 87,
     "metadata": {},
     "output_type": "execute_result"
    }
   ],
   "source": [
    "cmath.phase(z)"
   ]
  },
  {
   "cell_type": "markdown",
   "id": "03f0bd44",
   "metadata": {},
   "source": [
    "Al hacer esta operación de fase, que dice el ángulo que hay entre la línea imaginaria y la línea real, el º del ángulo nos dice dónde está la informacion. Fase cercana a 90º significa que están casi toda la info en el eje imaginario y que estamos perdiendo casi toda la info, y si está más cerca de 0º, es que estamos más cerca del eje real y podemos saber la info.La info anterior 1.1903... está en radianes y hay que pasarlo a grados."
   ]
  },
  {
   "cell_type": "code",
   "execution_count": 89,
   "id": "86b8aa97",
   "metadata": {},
   "outputs": [
    {
     "data": {
      "text/plain": [
       "(2+5j)"
      ]
     },
     "execution_count": 89,
     "metadata": {},
     "output_type": "execute_result"
    }
   ],
   "source": [
    "z"
   ]
  },
  {
   "cell_type": "code",
   "execution_count": 90,
   "id": "f4a42044",
   "metadata": {},
   "outputs": [
    {
     "data": {
      "text/plain": [
       "(5.385164807134504, 1.1902899496825317)"
      ]
     },
     "execution_count": 90,
     "metadata": {},
     "output_type": "execute_result"
    }
   ],
   "source": [
    "cmath.polar (z)"
   ]
  },
  {
   "cell_type": "markdown",
   "id": "7bcd01ef",
   "metadata": {},
   "source": [
    "El 5.38 es el módulo y el 1.19 es la fase."
   ]
  },
  {
   "cell_type": "markdown",
   "id": "9e380016",
   "metadata": {},
   "source": [
    "## Valor absoluto. Pasa cualquier num negativo a abs"
   ]
  },
  {
   "cell_type": "code",
   "execution_count": 95,
   "id": "6c60cc36",
   "metadata": {},
   "outputs": [
    {
     "data": {
      "text/plain": [
       "1.2"
      ]
     },
     "execution_count": 95,
     "metadata": {},
     "output_type": "execute_result"
    }
   ],
   "source": [
    "abs(-1.2)"
   ]
  },
  {
   "cell_type": "markdown",
   "id": "78872669",
   "metadata": {},
   "source": [
    "# Sumar con Booleanos + Conversiones implícitas\n",
    "Python da prioridad al numero entero o real etc y lo convierte implícitamente (conversion implícita) para evitar errores, en la misma categoría de datos"
   ]
  },
  {
   "cell_type": "code",
   "execution_count": 99,
   "id": "171a6822",
   "metadata": {},
   "outputs": [
    {
     "data": {
      "text/plain": [
       "26.01"
      ]
     },
     "execution_count": 99,
     "metadata": {},
     "output_type": "execute_result"
    }
   ],
   "source": [
    "True + 25.01"
   ]
  },
  {
   "cell_type": "code",
   "execution_count": 97,
   "id": "e5f12c5f",
   "metadata": {},
   "outputs": [
    {
     "data": {
      "text/plain": [
       "2"
      ]
     },
     "execution_count": 97,
     "metadata": {},
     "output_type": "execute_result"
    }
   ],
   "source": [
    "True + True"
   ]
  },
  {
   "cell_type": "code",
   "execution_count": 98,
   "id": "4742dd1f",
   "metadata": {},
   "outputs": [
    {
     "data": {
      "text/plain": [
       "0"
      ]
     },
     "execution_count": 98,
     "metadata": {},
     "output_type": "execute_result"
    }
   ],
   "source": [
    "7* False"
   ]
  },
  {
   "cell_type": "markdown",
   "id": "82a03416",
   "metadata": {},
   "source": [
    "# Conversiones explícitas. \n",
    "### Transformar bool,float, int en otro tipo. "
   ]
  },
  {
   "cell_type": "code",
   "execution_count": 100,
   "id": "7775fbb8",
   "metadata": {},
   "outputs": [
    {
     "data": {
      "text/plain": [
       "False"
      ]
     },
     "execution_count": 100,
     "metadata": {},
     "output_type": "execute_result"
    }
   ],
   "source": [
    "bool(0)"
   ]
  },
  {
   "cell_type": "code",
   "execution_count": 101,
   "id": "463aeba5",
   "metadata": {},
   "outputs": [
    {
     "data": {
      "text/plain": [
       "True"
      ]
     },
     "execution_count": 101,
     "metadata": {},
     "output_type": "execute_result"
    }
   ],
   "source": [
    "bool(-1)"
   ]
  },
  {
   "cell_type": "code",
   "execution_count": 102,
   "id": "53b6cc15",
   "metadata": {},
   "outputs": [
    {
     "data": {
      "text/plain": [
       "True"
      ]
     },
     "execution_count": 102,
     "metadata": {},
     "output_type": "execute_result"
    }
   ],
   "source": [
    "bool(2)"
   ]
  },
  {
   "cell_type": "code",
   "execution_count": 103,
   "id": "8b232073",
   "metadata": {},
   "outputs": [
    {
     "data": {
      "text/plain": [
       "True"
      ]
     },
     "execution_count": 103,
     "metadata": {},
     "output_type": "execute_result"
    }
   ],
   "source": [
    "bool(3)"
   ]
  },
  {
   "cell_type": "code",
   "execution_count": 104,
   "id": "21508837",
   "metadata": {},
   "outputs": [
    {
     "data": {
      "text/plain": [
       "1"
      ]
     },
     "execution_count": 104,
     "metadata": {},
     "output_type": "execute_result"
    }
   ],
   "source": [
    "int(True)"
   ]
  },
  {
   "cell_type": "code",
   "execution_count": 105,
   "id": "9d9776ed",
   "metadata": {},
   "outputs": [
    {
     "data": {
      "text/plain": [
       "34.0"
      ]
     },
     "execution_count": 105,
     "metadata": {},
     "output_type": "execute_result"
    }
   ],
   "source": [
    "float (34)"
   ]
  },
  {
   "cell_type": "code",
   "execution_count": 106,
   "id": "496f9377",
   "metadata": {},
   "outputs": [
    {
     "data": {
      "text/plain": [
       "3"
      ]
     },
     "execution_count": 106,
     "metadata": {},
     "output_type": "execute_result"
    }
   ],
   "source": [
    "int(3.4554)"
   ]
  },
  {
   "cell_type": "code",
   "execution_count": 109,
   "id": "9547440d",
   "metadata": {},
   "outputs": [
    {
     "data": {
      "text/plain": [
       "8"
      ]
     },
     "execution_count": 109,
     "metadata": {},
     "output_type": "execute_result"
    }
   ],
   "source": [
    "int (8.9)"
   ]
  },
  {
   "cell_type": "markdown",
   "id": "b6a57363",
   "metadata": {},
   "source": [
    "Cuidado con no abusar de esto,porque nos da la parte entera, pero no redondea. Es decir, estamos perdiendo un 0.9 de información que es mucho."
   ]
  },
  {
   "cell_type": "code",
   "execution_count": 110,
   "id": "2de280c3",
   "metadata": {},
   "outputs": [
    {
     "data": {
      "text/plain": [
       "0.9999999999999999"
      ]
     },
     "execution_count": 110,
     "metadata": {},
     "output_type": "execute_result"
    }
   ],
   "source": [
    "(19/115)*(115/19)"
   ]
  },
  {
   "cell_type": "markdown",
   "id": "819a906b",
   "metadata": {},
   "source": [
    "También pueden dar errores de aproximación, al ser una division flotante, el resultado da decimal. Sin embargo, si lo hacemos por calculadora, esa multiplicación saldría \"1\". Salen errores."
   ]
  },
  {
   "cell_type": "markdown",
   "id": "c5755dba",
   "metadata": {},
   "source": [
    "# Round\n",
    "### te redondea el número, utiliza la regla de redondea a mayor a partir del 5"
   ]
  },
  {
   "cell_type": "code",
   "execution_count": 111,
   "id": "b91ca212",
   "metadata": {},
   "outputs": [],
   "source": [
    "from math import pi, log, exp"
   ]
  },
  {
   "cell_type": "code",
   "execution_count": 112,
   "id": "f4513386",
   "metadata": {},
   "outputs": [
    {
     "data": {
      "text/plain": [
       "3.141592653589793"
      ]
     },
     "execution_count": 112,
     "metadata": {},
     "output_type": "execute_result"
    }
   ],
   "source": [
    "pi"
   ]
  },
  {
   "cell_type": "code",
   "execution_count": 113,
   "id": "9182d3cb",
   "metadata": {},
   "outputs": [
    {
     "data": {
      "text/plain": [
       "3"
      ]
     },
     "execution_count": 113,
     "metadata": {},
     "output_type": "execute_result"
    }
   ],
   "source": [
    "round(pi)"
   ]
  },
  {
   "cell_type": "code",
   "execution_count": 114,
   "id": "82a44a16",
   "metadata": {},
   "outputs": [
    {
     "data": {
      "text/plain": [
       "3.14"
      ]
     },
     "execution_count": 114,
     "metadata": {},
     "output_type": "execute_result"
    }
   ],
   "source": [
    "round(pi,2)"
   ]
  },
  {
   "cell_type": "code",
   "execution_count": 115,
   "id": "615114c1",
   "metadata": {},
   "outputs": [
    {
     "data": {
      "text/plain": [
       "1"
      ]
     },
     "execution_count": 115,
     "metadata": {},
     "output_type": "execute_result"
    }
   ],
   "source": [
    "round((19/115)*(115/19))"
   ]
  },
  {
   "cell_type": "markdown",
   "id": "b19c1f83",
   "metadata": {},
   "source": [
    "## Límite de un flotante. Sí hay límite. Y aparece así:"
   ]
  },
  {
   "cell_type": "code",
   "execution_count": 116,
   "id": "935d5c29",
   "metadata": {},
   "outputs": [],
   "source": [
    "import sys"
   ]
  },
  {
   "cell_type": "code",
   "execution_count": 117,
   "id": "0c71b165",
   "metadata": {},
   "outputs": [
    {
     "data": {
      "text/plain": [
       "2.2250738585072014e-308"
      ]
     },
     "execution_count": 117,
     "metadata": {},
     "output_type": "execute_result"
    }
   ],
   "source": [
    "sys.float_info.min"
   ]
  },
  {
   "cell_type": "code",
   "execution_count": 118,
   "id": "048ea28e",
   "metadata": {},
   "outputs": [
    {
     "data": {
      "text/plain": [
       "1.7976931348623157e+308"
      ]
     },
     "execution_count": 118,
     "metadata": {},
     "output_type": "execute_result"
    }
   ],
   "source": [
    "sys.float_info.max"
   ]
  },
  {
   "cell_type": "code",
   "execution_count": null,
   "id": "4cd30aae",
   "metadata": {},
   "outputs": [],
   "source": []
  }
 ],
 "metadata": {
  "kernelspec": {
   "display_name": "Python 3 (ipykernel)",
   "language": "python",
   "name": "python3"
  },
  "language_info": {
   "codemirror_mode": {
    "name": "ipython",
    "version": 3
   },
   "file_extension": ".py",
   "mimetype": "text/x-python",
   "name": "python",
   "nbconvert_exporter": "python",
   "pygments_lexer": "ipython3",
   "version": "3.10.14"
  }
 },
 "nbformat": 4,
 "nbformat_minor": 5
}
